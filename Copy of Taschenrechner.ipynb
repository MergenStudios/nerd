{
 "cells": [
  {
   "cell_type": "markdown",
   "id": "2406af35",
   "metadata": {},
   "source": [
    "Taschenrechner für umgekehrte polnische Notation\n",
    "================================================\n",
    "Ziel dieser Übung ist die Implementierung eines kommandozeilen-basierten interaktiven\n",
    "Taschenrechners.\n",
    "Zur Eingabe der Terme soll die umgekehrte polnische Notation verwendet werden:\n",
    "https://de.wikipedia.org/wiki/Umgekehrte_polnische_Notation.\n",
    "Hier wird der Operator nicht zwischen die Operanden geschrieben, sondern dahinter. Statt \"3 + 4\"\n",
    "würde man also \"3 4 +\" schreiben. Und \"9 + (8 - 5)\" würde man in der umgekehrten polnischen\n",
    "Notation durch \"9 8 5 - +\" darstellen. Ein letztes Beispiel noch: statt \"(4 + 5) / (6 - 3)\" würde\n",
    "man \"4 5 + 6 3 - /\" schreiben.\n",
    "Insgesamt ermöglicht dies eine eindeutige Auswertung von Termen ohne die Notwendigkeit von\n",
    "Klammern. Außerdem werden auch Operatoren mit mehr oder weniger als zwei Operanden möglich.\n",
    "Erstelle in dieser Aufgabe ein Programm, das solche Ausdrücke auswerten kann, nachdem es den Term\n",
    "Stück für Stück über die Kommandozeile abgefragt hat. Wird die Interaktion mit dem Programm durch\n",
    "eine leere Eingabe beendet, soll das Ergebnis zuvor noch auf der Kommandozeile ausgegeben werden.\n",
    "Eine mögliche Interaktion mit dem Programm sollte wie folgt aussehen:\n",
    "    > % python main.py\n",
    "    > Zahl eingeben: 4\n",
    "    > Zahl oder Operation eingeben (oder Enter zum Auswerten drücken): 5\n",
    "    > Zahl oder Operation eingeben (oder Enter zum Auswerten drücken): +\n",
    "    > Zahl oder Operation eingeben (oder Enter zum Auswerten drücken): 6\n",
    "    > Zahl oder Operation eingeben (oder Enter zum Auswerten drücken): 3\n",
    "    > Zahl oder Operation eingeben (oder Enter zum Auswerten drücken): -\n",
    "    > Zahl oder Operation eingeben (oder Enter zum Auswerten drücken): /\n",
    "    > Zahl oder Operation eingeben (oder Enter zum Auswerten drücken):\n",
    "    > Das Ergebnis ist 3.0\n",
    "Der Taschenrechner sollte grundsätzlich mit natürlichen Zahlen und den Grundrechenarten \"+\", \"-\",\n",
    "\"*\" und \"/\" umgehen können.\n",
    "Ideen für Erweiterungen:\n",
    " - lass den Taschenrechner auch negative Zahlen wie \"-2\" oder Dezimalzahlen wie \"14.1\" korrekt\n",
    "   verarbeiten,\n",
    " - erweitere den Taschenrechner um den Operator \"sqrt\", der nur einen Operanden erwartet und als\n",
    "   Ergebnis dessen Wurzel liefert: \"3 1 + sqrt\" sollte demnach \"2\" als Ergebnis haben,\n",
    " - füge den Operator \"sum\" hinzu, dessen Ergebnis die Summe aller vorherigen Operanden ist:\n",
    "   \"1 2 3 4 3 - sum 100 +\" sollte also den Wert \"107\" haben, oder\n",
    " - implementiere eine umfängliche Fehlerbehandlung, die bei falsch formatierten Eingaben\n",
    "   entsprechende Hinweise auf der Kommandozeile ausgibt, was schief gelaufen ist.\n",
    "Tipp: mit der Methode \"isdigit()\" lässt sich herausfinden, ob es sich beim Inhalt eines Strings um\n",
    "      eine natürliche Zahl handelt, der mit \"int(...)\" in eine solche umgewandelt werden kann.\n",
    "Ist also\n",
    "`n = \"34\"`\n",
    "dann liefert\n",
    "`n.isdigit()`\n",
    "den Wert \"True\".\n",
    "Viel Erfolg! :)"
   ]
  },
  {
   "cell_type": "code",
   "execution_count": null,
   "id": "38833766",
   "metadata": {},
   "outputs": [],
   "source": []
  }
 ],
 "metadata": {
  "kernelspec": {
   "display_name": "Python 3 (ipykernel)",
   "language": "python",
   "name": "python3"
  },
  "language_info": {
   "codemirror_mode": {
    "name": "ipython",
    "version": 3
   },
   "file_extension": ".py",
   "mimetype": "text/x-python",
   "name": "python",
   "nbconvert_exporter": "python",
   "pygments_lexer": "ipython3",
   "version": "3.8.5"
  }
 },
 "nbformat": 4,
 "nbformat_minor": 5
}
